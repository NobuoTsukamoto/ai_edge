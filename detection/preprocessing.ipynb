{
 "cells": [
  {
   "cell_type": "markdown",
   "metadata": {},
   "source": [
    "# Preprocess"
   ]
  },
  {
   "cell_type": "code",
   "execution_count": 1,
   "metadata": {},
   "outputs": [],
   "source": [
    "!unzip -qq ./download/dtc_saitama_day.zip -d download\n",
    "!unzip -qq ./download/dtc_saitama_morning.zip -d download\n",
    "!unzip -qq ./download/dtc_saitama_night.zip -d download\n",
    "!unzip -qq ./download/dtc_tokyo1_day.zip -d download\n",
    "!unzip -qq ./download/dtc_tokyo1_morning.zip -d download\n",
    "!unzip -qq ./download/dtc_tokyo1_night.zip -d download\n",
    "!unzip -qq ./download/dtc_tokyo2_day.zip -d download"
   ]
  },
  {
   "cell_type": "code",
   "execution_count": null,
   "metadata": {},
   "outputs": [],
   "source": [
    "!mkdir ./data/annotations/\n",
    "!mkdir ./data/images/\n",
    "!mv ./download/dtc_saitama_day/annotations/* ./data/annotations/\n",
    "!mv ./download/dtc_saitama_day/images/* ./data/images/\n",
    "!mv ./download/dtc_saitama_morning/annotations/* ./data/annotations/\n",
    "!mv ./download/dtc_saitama_morning/images/* ./data/images/\n",
    "!mv ./download/dtc_saitama_night/annotations/* ./data/annotations/\n",
    "!mv ./download/dtc_saitama_night/images/* ./data/images/\n",
    "!mv ./download/dtc_tokyo1_day/annotations/* ./data/annotations/\n",
    "!mv ./download/dtc_tokyo1_day/images/* ./data/images/\n",
    "!mv ./download/dtc_tokyo1_morning/annotations/* ./data/annotations/\n",
    "!mv ./download/dtc_tokyo1_morning/images/* ./data/images/\n",
    "!mv ./download/dtc_tokyo1_night/annotations/* ./data/annotations/\n",
    "!mv ./download/dtc_tokyo1_night/images/* ./data/images/\n",
    "!mv ./download/dtc_tokyo2_day/annotations/* ./data/annotations/\n",
    "!mv ./download/dtc_tokyo2_day/images/* ./data/images/"
   ]
  },
  {
   "cell_type": "code",
   "execution_count": 5,
   "metadata": {},
   "outputs": [],
   "source": [
    "import cv2\n",
    "import os\n",
    "import glob\n",
    "import pathlib\n",
    "import shutil\n",
    "import json\n",
    "import numpy as np\n",
    "\n",
    "from tqdm import tqdm"
   ]
  },
  {
   "cell_type": "markdown",
   "metadata": {},
   "source": [
    "To get started, we would advise you to download all the files, and move them inside the `object/data/` folder, so that you have a directory structure like this :\n",
    "```bash\n",
    "+- data\n",
    "    +- annotations\n",
    "        +- *.json\n",
    "    +- images\n",
    "        +- *.jpg\n",
    "              \n",
    "```"
   ]
  },
  {
   "cell_type": "code",
   "execution_count": 6,
   "metadata": {},
   "outputs": [],
   "source": [
    "TRAIN_IMAGES_DIRECTORY = \"./data/images\"\n",
    "TRAIN_ANNOTATIONS_DIRECTORY = \"./data/annotations\""
   ]
  },
  {
   "cell_type": "code",
   "execution_count": 7,
   "metadata": {},
   "outputs": [
    {
     "name": "stdout",
     "output_type": "stream",
     "text": [
      "train annotaions files :  21258\n",
      "train images files     :  21258\n"
     ]
    }
   ],
   "source": [
    "train_annotations_files = glob.glob(os.path.join(TRAIN_ANNOTATIONS_DIRECTORY, '*.json'))\n",
    "train_images_files = glob.glob(os.path.join(TRAIN_IMAGES_DIRECTORY, '*.jpg'))\n",
    "\n",
    "train_annotations_files.sort()\n",
    "train_images_files.sort()\n",
    "\n",
    "print('train annotaions files : ', len(train_annotations_files))\n",
    "print('train images files     : ', len(train_images_files))"
   ]
  },
  {
   "cell_type": "code",
   "execution_count": 9,
   "metadata": {},
   "outputs": [],
   "source": [
    "!rm -rf download/__MACOSX\n",
    "!rm -rf download/dtc_saitama_day\n",
    "!rm -rf download/dtc_saitama_morning\n",
    "!rm -rf download/dtc_saitama_night\n",
    "!rm -rf download/dtc_tokyo1_day\n",
    "!rm -rf download/dtc_tokyo1_morning\n",
    "!rm -rf download/dtc_tokyo1_night\n",
    "!rm -rf download/dtc_tokyo2_day"
   ]
  },
  {
   "cell_type": "markdown",
   "metadata": {},
   "source": [
    "## Make File List(for YOLO)"
   ]
  },
  {
   "cell_type": "code",
   "execution_count": null,
   "metadata": {},
   "outputs": [],
   "source": [
    "# train image files list\n",
    "with open('./train_images_file_list.txt', 'w') as f:\n",
    "    for i in train_images_files:\n",
    "        path = pathlib.Path(i).resolve()\n",
    "        f.write(str(path) + '\\n')\n",
    "\n",
    "# test image files list\n",
    "with open('./test_images_file_list.txt', 'w') as f:\n",
    "    for i in test_images_files:\n",
    "        path = pathlib.Path(i).resolve()\n",
    "        f.write(str(path) + '\\n')\n"
   ]
  }
 ],
 "metadata": {
  "kernelspec": {
   "display_name": "Python 3",
   "language": "python",
   "name": "python3"
  },
  "language_info": {
   "codemirror_mode": {
    "name": "ipython",
    "version": 3
   },
   "file_extension": ".py",
   "mimetype": "text/x-python",
   "name": "python",
   "nbconvert_exporter": "python",
   "pygments_lexer": "ipython3",
   "version": "3.7.6"
  }
 },
 "nbformat": 4,
 "nbformat_minor": 2
}
